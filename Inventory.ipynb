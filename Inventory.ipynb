{
 "cells": [
  {
   "cell_type": "code",
   "execution_count": 11,
   "metadata": {},
   "outputs": [],
   "source": [
    "import sqlite3\n",
    "from datetime import date "
   ]
  },
  {
   "cell_type": "code",
   "execution_count": 2,
   "metadata": {},
   "outputs": [],
   "source": [
    "import time"
   ]
  },
  {
   "cell_type": "code",
   "execution_count": 3,
   "metadata": {},
   "outputs": [],
   "source": [
    "PATH = \"C:\\\\Users\\\\user\\\\GreenPath\\\\SQL Practice\\\\\"\n",
    "FILENAME = \"Inventory.db\"\n",
    "FILE = PATH + FILENAME"
   ]
  },
  {
   "cell_type": "code",
   "execution_count": 9,
   "metadata": {},
   "outputs": [],
   "source": [
    "def set_sql_connection():\n",
    "    \"\"\"\n",
    "    This function will create connection to a database, using sqlite3 module\n",
    "    This function returns a Connection object \n",
    "    \"\"\"\n",
    "    con = sqlite3.connect(FILE)\n",
    "    return con \n",
    "   "
   ]
  },
  {
   "cell_type": "code",
   "execution_count": 5,
   "metadata": {},
   "outputs": [],
   "source": [
    "def set_cursor(con):\n",
    "    \"\"\"\n",
    "    This function will create a Cursor object, once a connection had been made using set_sql_connection\n",
    "    IN: con\n",
    "    TYPE: sqlite3.connect\n",
    "    OUT: cur\n",
    "    TYPE: sqlite3.connect.cursor\n",
    "    \"\"\"\n",
    "    cur = con.cursor()\n",
    "    return cur"
   ]
  },
  {
   "cell_type": "code",
   "execution_count": 6,
   "metadata": {},
   "outputs": [],
   "source": [
    "def close_sql_connection(con):\n",
    "    \"\"\"\n",
    "    This function will commit any changes to an open sql connection and closes it.\n",
    "    IN: con\n",
    "    TYPE: sqlite3.connect \n",
    "    \"\"\"\n",
    "    con.commit()\n",
    "    con.close()"
   ]
  },
  {
   "cell_type": "code",
   "execution_count": 21,
   "metadata": {},
   "outputs": [],
   "source": [
    "def get_items():\n",
    "    \"\"\"\n",
    "    This function retrieves all users information from a database\n",
    "    IN: \n",
    "    OUT: Values from DB as LIST of Dict\n",
    "    Type: LIST\n",
    "    \"\"\"\n",
    "    con = set_sql_connection() ## Creates connection\n",
    "    cur = set_cursor(con) ## Creates Cursor\n",
    "    query = \"SELECT Item FROM Inventory\" ## SQL QUERY\n",
    "    data = cur.execute(query).fetchall() ## EXECUTING SQL QUERY\n",
    "    #dct = sort_as_dict(cur, data)\n",
    "    close_sql_connection(con) ## Closing connection\n",
    "    return data"
   ]
  },
  {
   "cell_type": "code",
   "execution_count": 6,
   "metadata": {},
   "outputs": [],
   "source": [
    "def sort_as_dict(cur, data):\n",
    "    \"\"\"\n",
    "    This function receives cur, data, where:\n",
    "    1. cur will be used to retrieve columns\n",
    "    2. data will be used to retrieve values\n",
    "    This function will return a list of dictionary {columns:values}\n",
    "    \"\"\"\n",
    "    ## List Comprehension\n",
    "    columns = [desc[0] for desc in cur.description] ## GETTING COLUMNS NAMES FROM DB\n",
    "    result = []\n",
    "    for row in data:\n",
    "        row = dict(zip(columns, row))\n",
    "        result.append(row)\n",
    "        \n",
    "    return result"
   ]
  },
  {
   "cell_type": "code",
   "execution_count": 26,
   "metadata": {},
   "outputs": [
    {
     "name": "stdout",
     "output_type": "stream",
     "text": [
      "[('Pickaxe',), ('Tent',)]\n",
      "2\n",
      "['Pickaxe', 'Tent']\n"
     ]
    }
   ],
   "source": [
    "lst = get_items()\n",
    "print(lst)\n",
    "print(len(lst))\n",
    "lst2 = [item[0] for item in lst]\n",
    "print(lst2)T\n",
    "    "
   ]
  },
  {
   "cell_type": "code",
   "execution_count": 12,
   "metadata": {},
   "outputs": [],
   "source": [
    "def is_item_exist(item):\n",
    "    con = set_sql_connection() ## Creates connection\n",
    "    cur = set_cursor(con) ## Creates Cursor\n",
    "    query = \"SELECT * FROM `Inventory`\" ## SQL QUERY\n",
    "    data = cur.execute(query).fetchall() ## EXECUTING SQL QUERY\n",
    "    close_sql_connection(con)\n",
    "    for row in data:\n",
    "        if row[1] == item:\n",
    "            return True\n",
    "    return False"
   ]
  },
  {
   "cell_type": "code",
   "execution_count": 14,
   "metadata": {},
   "outputs": [
    {
     "data": {
      "text/plain": [
       "False"
      ]
     },
     "execution_count": 14,
     "metadata": {},
     "output_type": "execute_result"
    }
   ],
   "source": [
    "is_item_exist('Tents')"
   ]
  },
  {
   "cell_type": "code",
   "execution_count": 17,
   "metadata": {},
   "outputs": [],
   "source": [
    "def insert_item(item, category, quantity, price, date):\n",
    "    \"\"\"\n",
    "    This function inserts a new user into an existing database, once validating that the user or email doesnt exist\n",
    "    \"\"\"\n",
    "    con = set_sql_connection() ## Creates connection\n",
    "    cur = set_cursor(con) ## Creates Cursor\n",
    "    if not (is_item_exist(item)): ## is exist validation\n",
    "        query = \"INSERT INTO Inventory (`Item`,`Category`,`Quantity`,`Price`,`Date`) VALUES (?,?,?,?,?)\" ## PREPARED STATEMENT\n",
    "        cur.execute(query, (item, category, quantity, price,date)) ## PREPARED STATEMENT\n",
    "        print(f\"New item had been added with values of: {item, category, quantity, price, date}\")\n",
    "    else:\n",
    "        print(\"Item already exists\")\n",
    "    close_sql_connection(con)"
   ]
  },
  {
   "cell_type": "code",
   "execution_count": 20,
   "metadata": {},
   "outputs": [
    {
     "name": "stdout",
     "output_type": "stream",
     "text": [
      "Item already exists\n"
     ]
    }
   ],
   "source": [
    "insert_item('Axe', 'Tools', 100, 7, '10/20/2000')"
   ]
  },
  {
   "cell_type": "code",
   "execution_count": 21,
   "metadata": {},
   "outputs": [],
   "source": [
    "def update_price(item,price):\n",
    "    con = set_sql_connection() ## Creates connection\n",
    "    cur = set_cursor(con) ## Creates Cursor\n",
    "    if (is_item_exist(item)):\n",
    "        query = \"\"\"UPDATE Inventory set Price = ? where Item = ?\"\"\"\n",
    "        val = (price, item)\n",
    "        cur.execute(query, val)\n",
    "        print(f\"New item had been changed with values of: {item, price}\")\n",
    "    else:\n",
    "        print(\"Item not exists\")\n",
    "    close_sql_connection(con)\n"
   ]
  },
  {
   "cell_type": "code",
   "execution_count": 22,
   "metadata": {},
   "outputs": [
    {
     "name": "stdout",
     "output_type": "stream",
     "text": [
      "New item had been changed with values of: ('Axe', 8)\n"
     ]
    }
   ],
   "source": [
    "update_price('Axe', 8)"
   ]
  },
  {
   "cell_type": "code",
   "execution_count": 23,
   "metadata": {},
   "outputs": [],
   "source": [
    "def update_quantity(item,quantity):\n",
    "    con = set_sql_connection() ## Creates connection\n",
    "    cur = set_cursor(con) ## Creates Cursor\n",
    "    if (is_item_exist(item)):\n",
    "        query = \"\"\"UPDATE Inventory SET Quantity = ? WHERE Item = ?\"\"\"\n",
    "        val = (quantity, item)\n",
    "        cur.execute(query, val)\n",
    "        print(f\"New item had been changed with values of: {item, quantity}\")\n",
    "    else:\n",
    "        print(\"Item not exists\")\n",
    "    close_sql_connection(con)"
   ]
  },
  {
   "cell_type": "code",
   "execution_count": 24,
   "metadata": {},
   "outputs": [
    {
     "name": "stdout",
     "output_type": "stream",
     "text": [
      "New item had been changed with values of: ('Axe', 102)\n"
     ]
    }
   ],
   "source": [
    "update_quantity('Axe', 102)"
   ]
  },
  {
   "cell_type": "code",
   "execution_count": 26,
   "metadata": {},
   "outputs": [],
   "source": [
    "def update_item_name(item,name):\n",
    "    con = set_sql_connection() ## Creates connection\n",
    "    cur = set_cursor(con) ## Creates Cursor\n",
    "    if (is_item_exist(item)):\n",
    "        query = \"\"\"UPDATE Inventory SET Item = ? WHERE Item = ?\"\"\"\n",
    "        val = (name, item)\n",
    "        cur.execute(query, val)\n",
    "        print(f\"New item had been changed with values of: {item, name}\")\n",
    "    else:\n",
    "        print(\"Item not exists\")\n",
    "    close_sql_connection(con)"
   ]
  },
  {
   "cell_type": "code",
   "execution_count": 27,
   "metadata": {},
   "outputs": [
    {
     "name": "stdout",
     "output_type": "stream",
     "text": [
      "New item had been changed with values of: ('Axe', 'Pickaxe')\n"
     ]
    }
   ],
   "source": [
    "update_item_name('Axe', 'Pickaxe')"
   ]
  },
  {
   "cell_type": "code",
   "execution_count": 28,
   "metadata": {},
   "outputs": [],
   "source": [
    "def update_category(item,cat):\n",
    "    con = set_sql_connection() ## Creates connection\n",
    "    cur = set_cursor(con) ## Creates Cursor\n",
    "    if (is_item_exist(item)):\n",
    "        query = \"\"\"UPDATE Inventory SET Category = ? WHERE Item = ?\"\"\"\n",
    "        val = (cat, item)\n",
    "        cur.execute(query, val)\n",
    "        print(f\"New item had been changed with values of: {item, cat}\")               \n",
    "    else:\n",
    "        print(\"Item not exists\")\n",
    "    close_sql_connection(con)"
   ]
  },
  {
   "cell_type": "code",
   "execution_count": 29,
   "metadata": {},
   "outputs": [
    {
     "name": "stdout",
     "output_type": "stream",
     "text": [
      "New item had been changed with values of: ('Pickaxe', 'Garden Tools')\n"
     ]
    }
   ],
   "source": [
    "update_category('Pickaxe', 'Garden Tools')"
   ]
  },
  {
   "cell_type": "code",
   "execution_count": null,
   "metadata": {},
   "outputs": [],
   "source": []
  }
 ],
 "metadata": {
  "kernelspec": {
   "display_name": "Python 3",
   "language": "python",
   "name": "python3"
  },
  "language_info": {
   "codemirror_mode": {
    "name": "ipython",
    "version": 3
   },
   "file_extension": ".py",
   "mimetype": "text/x-python",
   "name": "python",
   "nbconvert_exporter": "python",
   "pygments_lexer": "ipython3",
   "version": "3.9.0"
  }
 },
 "nbformat": 4,
 "nbformat_minor": 5
}
